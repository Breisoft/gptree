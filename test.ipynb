{
 "cells": [
  {
   "cell_type": "code",
   "execution_count": 1,
   "metadata": {},
   "outputs": [
    {
     "ename": "TypeError",
     "evalue": "get_full_prompt() missing 1 required positional argument: 'prompt'",
     "output_type": "error",
     "traceback": [
      "\u001b[0;31m---------------------------------------------------------------------------\u001b[0m",
      "\u001b[0;31mTypeError\u001b[0m                                 Traceback (most recent call last)",
      "Cell \u001b[0;32mIn[1], line 4\u001b[0m\n\u001b[1;32m      1\u001b[0m \u001b[39mfrom\u001b[39;00m \u001b[39mgptree\u001b[39;00m \u001b[39mimport\u001b[39;00m get_full_prompt\n\u001b[1;32m      2\u001b[0m \u001b[39mimport\u001b[39;00m \u001b[39mos\u001b[39;00m\n\u001b[0;32m----> 4\u001b[0m prompt \u001b[39m=\u001b[39m get_full_prompt()\n",
      "\u001b[0;31mTypeError\u001b[0m: get_full_prompt() missing 1 required positional argument: 'prompt'"
     ]
    }
   ],
   "source": [
    "from gptree import get_full_prompt\n",
    "import os\n",
    "\n",
    "prompt = get_full_prompt()"
   ]
  },
  {
   "cell_type": "code",
   "execution_count": 3,
   "metadata": {},
   "outputs": [],
   "source": [
    "import openai"
   ]
  },
  {
   "cell_type": "code",
   "execution_count": 4,
   "metadata": {},
   "outputs": [
    {
     "data": {
      "text/plain": [
       "True"
      ]
     },
     "execution_count": 4,
     "metadata": {},
     "output_type": "execute_result"
    }
   ],
   "source": [
    "from dotenv import load_dotenv\n",
    "\n",
    "load_dotenv()"
   ]
  },
  {
   "cell_type": "code",
   "execution_count": 5,
   "metadata": {},
   "outputs": [],
   "source": [
    "import os\n",
    "import openai\n",
    "openai.organization = \"org-wK9Sf2xJOctvpQuQ98sp4CLB\"\n",
    "openai.api_key = os.getenv(\"OPENAI_API_KEY\")"
   ]
  },
  {
   "cell_type": "code",
   "execution_count": 6,
   "metadata": {},
   "outputs": [],
   "source": [
    "completion = openai.ChatCompletion.create(\n",
    "  model=\"gpt-3.5-turbo\",\n",
    "  messages=[\n",
    "    {\"role\": \"system\", \"content\": \"You are a a coding assistant designed to help with debugging and improving security code. You will be evaluating entire directories/code workspaces holistically.\"},\n",
    "    {\"role\": \"user\", \"content\": prompt}\n",
    "  ]\n",
    ")"
   ]
  },
  {
   "cell_type": "code",
   "execution_count": 9,
   "metadata": {},
   "outputs": [
    {
     "data": {
      "text/html": [
       "\n",
       "<h1>Translation</h1>\n",
       "<p><strong>English:</strong> {english_text}</p>\n",
       "<p><strong>French:</strong> {translation}</p>\n"
      ],
      "text/plain": [
       "<IPython.core.display.HTML object>"
      ]
     },
     "metadata": {},
     "output_type": "display_data"
    }
   ],
   "source": [
    "from IPython.display import display, HTML\n",
    "\n",
    "html_string = \"\"\"\n",
    "<h1>Translation</h1>\n",
    "<p><strong>English:</strong> {english_text}</p>\n",
    "<p><strong>French:</strong> {translation}</p>\n",
    "\"\"\"\n",
    "\n",
    "display(HTML(html_string))\n",
    "\n"
   ]
  },
  {
   "cell_type": "code",
   "execution_count": 3,
   "metadata": {},
   "outputs": [
    {
     "name": "stderr",
     "output_type": "stream",
     "text": [
      "2023-07-21 19:48:38.012 \n",
      "  \u001b[33m\u001b[1mWarning:\u001b[0m to view this Streamlit app on a browser, run it with the following\n",
      "  command:\n",
      "\n",
      "    streamlit run /Users/josh/My Drive/BreisoftLLC/gptree/.venv/lib/python3.11/site-packages/ipykernel_launcher.py [ARGUMENTS]\n"
     ]
    }
   ],
   "source": [
    "import streamlit as st\n",
    "import openai\n",
    "import os\n",
    "\n",
    "from dotenv import load_dotenv\n",
    "\n",
    "load_dotenv()\n",
    "\n",
    "openai.api_key = os.getenv(\"OPENAI_API_KEY\")\n",
    "\n",
    "def translate(text):\n",
    "    response = openai.Completion.create(\n",
    "        engine=\"text-davinci-002\",\n",
    "        prompt=f\"Translate the following English text to French: '{text}'\",\n",
    "        max_tokens=60\n",
    "    )\n",
    "    return response.choices[0].text.strip()\n",
    "\n",
    "st.title('Translation App')\n",
    "\n",
    "user_input = st.text_input(\"Enter English text\")\n",
    "\n",
    "if user_input:\n",
    "    translation = translate(user_input)\n",
    "    st.markdown(f\"**French Translation**: {translation}\")\n"
   ]
  },
  {
   "cell_type": "code",
   "execution_count": 7,
   "metadata": {},
   "outputs": [
    {
     "data": {
      "text/plain": [
       "<OpenAIObject chat.completion id=chatcmpl-7etuMATvfWN6qTGap3m7NMa2J4Avj at 0x106008e30> JSON: {\n",
       "  \"id\": \"chatcmpl-7etuMATvfWN6qTGap3m7NMa2J4Avj\",\n",
       "  \"object\": \"chat.completion\",\n",
       "  \"created\": 1689982386,\n",
       "  \"model\": \"gpt-3.5-turbo-0613\",\n",
       "  \"choices\": [\n",
       "    {\n",
       "      \"index\": 0,\n",
       "      \"message\": {\n",
       "        \"role\": \"assistant\",\n",
       "        \"content\": \"Overall, the code looks fine and doesn't have any major bugs, errors, or security flaws. However, there are a few things worth mentioning:\\n\\n1. In the `tree.py` file, the `explore_dir` function doesn't handle permission errors or any other exceptions that may occur when accessing files and directories. It would be good to add error handling to gracefully handle such cases.\\n   \\n2. In the `tree.py` file, the `read_file` function doesn't handle file read errors, such as if the file doesn't exist or if there are permission issues. It would be better to add error handling here as well.\\n\\n3. In the `gptree/__init__.py` file, the `get_full_prompt` function is trying to generate a formatted prompt by reading the code from all the Python files found. However, if there are any large files, there could be performance issues or memory limitations when reading and storing the content of all files. It would be better to avoid loading the entire content of each file into memory unless absolutely necessary.\\n\\n4. In the `test.py` file, the import statement is incomplete and missing a closing parenthesis. It should be `from gptree import get_files` instead of `from gptree import get_files`.\\n\\nOther than these minor points, the code seems clean and follows good practices.\"\n",
       "      },\n",
       "      \"finish_reason\": \"stop\"\n",
       "    }\n",
       "  ],\n",
       "  \"usage\": {\n",
       "    \"prompt_tokens\": 430,\n",
       "    \"completion_tokens\": 275,\n",
       "    \"total_tokens\": 705\n",
       "  }\n",
       "}"
      ]
     },
     "execution_count": 7,
     "metadata": {},
     "output_type": "execute_result"
    }
   ],
   "source": [
    "completion"
   ]
  }
 ],
 "metadata": {
  "kernelspec": {
   "display_name": ".venv",
   "language": "python",
   "name": "python3"
  },
  "language_info": {
   "codemirror_mode": {
    "name": "ipython",
    "version": 3
   },
   "file_extension": ".py",
   "mimetype": "text/x-python",
   "name": "python",
   "nbconvert_exporter": "python",
   "pygments_lexer": "ipython3",
   "version": "3.11.4"
  },
  "orig_nbformat": 4
 },
 "nbformat": 4,
 "nbformat_minor": 2
}
